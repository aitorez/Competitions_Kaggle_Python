{
 "cells": [
  {
   "cell_type": "code",
   "execution_count": 1,
   "id": "73af7712",
   "metadata": {},
   "outputs": [],
   "source": [
    "import requests\n",
    "from bs4 import BeautifulSoup as bs\n",
    "import re\n",
    "import pandas as pd\n",
    "import sys\n",
    "import time\n",
    "from selenium.webdriver.common.keys import Keys\n",
    "from selenium.webdriver.common.by import By\n",
    "from selenium import webdriver    \n",
    "\n",
    "\n",
    "from selenium.webdriver.support.ui import WebDriverWait\n",
    "from selenium.webdriver.support import expected_conditions as EC\n",
    "from selenium.webdriver.common.by import By"
   ]
  },
  {
   "cell_type": "code",
   "execution_count": 2,
   "id": "e2704eb6",
   "metadata": {},
   "outputs": [
    {
     "name": "stderr",
     "output_type": "stream",
     "text": [
      "C:\\Users\\aitor\\AppData\\Local\\Temp/ipykernel_12560/3842444119.py:4: DeprecationWarning: executable_path has been deprecated, please pass in a Service object\n",
      "  wd = webdriver.Chrome(path)\n"
     ]
    }
   ],
   "source": [
    "url = \"https://www.masmovil.es/llamadas-internacionales\" \n",
    "path = 'C:/Users/aitor/OneDrive/Escritorio/Anaconda/Big-Bang/exe'\n",
    "\n",
    "wd = webdriver.Chrome(path)\n",
    "wd.get(url)\n",
    "           "
   ]
  },
  {
   "cell_type": "code",
   "execution_count": 6,
   "id": "aab40b32",
   "metadata": {},
   "outputs": [
    {
     "ename": "NameError",
     "evalue": "name 'html' is not defined",
     "output_type": "error",
     "traceback": [
      "\u001b[1;31m---------------------------------------------------------------------------\u001b[0m",
      "\u001b[1;31mNameError\u001b[0m                                 Traceback (most recent call last)",
      "\u001b[1;32m~\\AppData\\Local\\Temp/ipykernel_12560/1719777505.py\u001b[0m in \u001b[0;36m<module>\u001b[1;34m\u001b[0m\n\u001b[1;32m----> 1\u001b[1;33m \u001b[0msoup\u001b[0m \u001b[1;33m=\u001b[0m \u001b[0mbs\u001b[0m\u001b[1;33m(\u001b[0m\u001b[0mhtml\u001b[0m\u001b[1;33m)\u001b[0m\u001b[1;33m\u001b[0m\u001b[1;33m\u001b[0m\u001b[0m\n\u001b[0m\u001b[0;32m      2\u001b[0m \u001b[0mprint\u001b[0m\u001b[1;33m(\u001b[0m\u001b[0msoup\u001b[0m\u001b[1;33m.\u001b[0m\u001b[0mprettify\u001b[0m\u001b[1;33m(\u001b[0m\u001b[1;33m)\u001b[0m\u001b[1;33m)\u001b[0m \u001b[1;31m#also show the html code of the document ;but this is readable\u001b[0m\u001b[1;33m\u001b[0m\u001b[1;33m\u001b[0m\u001b[0m\n",
      "\u001b[1;31mNameError\u001b[0m: name 'html' is not defined"
     ]
    }
   ],
   "source": [
    "soup = bs(html)\n",
    "print(soup.prettify()) #also show the html code of the document ;but this is readable"
   ]
  },
  {
   "cell_type": "code",
   "execution_count": 4,
   "id": "38327b92",
   "metadata": {},
   "outputs": [],
   "source": [
    "element = wd.find_element(By.ID, \"country-selector\")"
   ]
  },
  {
   "cell_type": "code",
   "execution_count": 5,
   "id": "9c74e199",
   "metadata": {},
   "outputs": [
    {
     "ename": "TimeoutException",
     "evalue": "Message: \nStacktrace:\nBacktrace:\n\tOrdinal0 [0x0060A113+1548563]\n\tOrdinal0 [0x0058DDA1+1039777]\n\tOrdinal0 [0x0050E485+517253]\n\tOrdinal0 [0x004A8539+99641]\n\tOrdinal0 [0x004C3BB0+211888]\n\tOrdinal0 [0x004B97B0+169904]\n\tOrdinal0 [0x004C2594+206228]\n\tOrdinal0 [0x004B95FB+169467]\n\tOrdinal0 [0x004A160A+71178]\n\tOrdinal0 [0x004A2690+75408]\n\tOrdinal0 [0x004A2629+75305]\n\tOrdinal0 [0x005A71B7+1143223]\n\tGetHandleVerifier [0x006A2B46+507814]\n\tGetHandleVerifier [0x006A2864+507076]\n\tGetHandleVerifier [0x006A9F47+537511]\n\tGetHandleVerifier [0x006A3402+510050]\n\tOrdinal0 [0x0059F29C+1110684]\n\tOrdinal0 [0x005A938B+1151883]\n\tOrdinal0 [0x005A94F3+1152243]\n\tOrdinal0 [0x005A83F5+1147893]\n\tBaseThreadInitThunk [0x75CA6BD9+25]\n\tRtlGetFullPathName_UEx [0x76FD8FD2+1218]\n\tRtlGetFullPathName_UEx [0x76FD8F9D+1165]\n",
     "output_type": "error",
     "traceback": [
      "\u001b[1;31m---------------------------------------------------------------------------\u001b[0m",
      "\u001b[1;31mTimeoutException\u001b[0m                          Traceback (most recent call last)",
      "\u001b[1;32m~\\AppData\\Local\\Temp/ipykernel_12560/102480003.py\u001b[0m in \u001b[0;36m<module>\u001b[1;34m\u001b[0m\n\u001b[0;32m      6\u001b[0m \u001b[1;33m\u001b[0m\u001b[0m\n\u001b[0;32m      7\u001b[0m \u001b[1;33m\u001b[0m\u001b[0m\n\u001b[1;32m----> 8\u001b[1;33m \u001b[0melement\u001b[0m \u001b[1;33m=\u001b[0m \u001b[0mWebDriverWait\u001b[0m\u001b[1;33m(\u001b[0m\u001b[0mwd\u001b[0m\u001b[1;33m,\u001b[0m \u001b[1;36m15\u001b[0m\u001b[1;33m)\u001b[0m\u001b[1;33m.\u001b[0m\u001b[0muntil\u001b[0m\u001b[1;33m(\u001b[0m\u001b[0mEC\u001b[0m\u001b[1;33m.\u001b[0m\u001b[0melement_to_be_clickable\u001b[0m\u001b[1;33m(\u001b[0m\u001b[1;33m(\u001b[0m\u001b[0mBy\u001b[0m\u001b[1;33m.\u001b[0m\u001b[0mXPATH\u001b[0m\u001b[1;33m,\u001b[0m \u001b[1;34m\"aria-activedescendant\"\u001b[0m\u001b[1;33m)\u001b[0m\u001b[1;33m)\u001b[0m\u001b[1;33m)\u001b[0m\u001b[1;33m\u001b[0m\u001b[1;33m\u001b[0m\u001b[0m\n\u001b[0m\u001b[0;32m      9\u001b[0m \u001b[1;33m\u001b[0m\u001b[0m\n\u001b[0;32m     10\u001b[0m \u001b[1;31m# Haz click en el elemento\u001b[0m\u001b[1;33m\u001b[0m\u001b[1;33m\u001b[0m\u001b[0m\n",
      "\u001b[1;32m~\\anaconda3\\lib\\site-packages\\selenium\\webdriver\\support\\wait.py\u001b[0m in \u001b[0;36muntil\u001b[1;34m(self, method, message)\u001b[0m\n\u001b[0;32m     93\u001b[0m             \u001b[1;32mif\u001b[0m \u001b[0mtime\u001b[0m\u001b[1;33m.\u001b[0m\u001b[0mmonotonic\u001b[0m\u001b[1;33m(\u001b[0m\u001b[1;33m)\u001b[0m \u001b[1;33m>\u001b[0m \u001b[0mend_time\u001b[0m\u001b[1;33m:\u001b[0m\u001b[1;33m\u001b[0m\u001b[1;33m\u001b[0m\u001b[0m\n\u001b[0;32m     94\u001b[0m                 \u001b[1;32mbreak\u001b[0m\u001b[1;33m\u001b[0m\u001b[1;33m\u001b[0m\u001b[0m\n\u001b[1;32m---> 95\u001b[1;33m         \u001b[1;32mraise\u001b[0m \u001b[0mTimeoutException\u001b[0m\u001b[1;33m(\u001b[0m\u001b[0mmessage\u001b[0m\u001b[1;33m,\u001b[0m \u001b[0mscreen\u001b[0m\u001b[1;33m,\u001b[0m \u001b[0mstacktrace\u001b[0m\u001b[1;33m)\u001b[0m\u001b[1;33m\u001b[0m\u001b[1;33m\u001b[0m\u001b[0m\n\u001b[0m\u001b[0;32m     96\u001b[0m \u001b[1;33m\u001b[0m\u001b[0m\n\u001b[0;32m     97\u001b[0m     \u001b[1;32mdef\u001b[0m \u001b[0muntil_not\u001b[0m\u001b[1;33m(\u001b[0m\u001b[0mself\u001b[0m\u001b[1;33m,\u001b[0m \u001b[0mmethod\u001b[0m\u001b[1;33m,\u001b[0m \u001b[0mmessage\u001b[0m\u001b[1;33m:\u001b[0m \u001b[0mstr\u001b[0m \u001b[1;33m=\u001b[0m \u001b[1;34m\"\"\u001b[0m\u001b[1;33m)\u001b[0m\u001b[1;33m:\u001b[0m\u001b[1;33m\u001b[0m\u001b[1;33m\u001b[0m\u001b[0m\n",
      "\u001b[1;31mTimeoutException\u001b[0m: Message: \nStacktrace:\nBacktrace:\n\tOrdinal0 [0x0060A113+1548563]\n\tOrdinal0 [0x0058DDA1+1039777]\n\tOrdinal0 [0x0050E485+517253]\n\tOrdinal0 [0x004A8539+99641]\n\tOrdinal0 [0x004C3BB0+211888]\n\tOrdinal0 [0x004B97B0+169904]\n\tOrdinal0 [0x004C2594+206228]\n\tOrdinal0 [0x004B95FB+169467]\n\tOrdinal0 [0x004A160A+71178]\n\tOrdinal0 [0x004A2690+75408]\n\tOrdinal0 [0x004A2629+75305]\n\tOrdinal0 [0x005A71B7+1143223]\n\tGetHandleVerifier [0x006A2B46+507814]\n\tGetHandleVerifier [0x006A2864+507076]\n\tGetHandleVerifier [0x006A9F47+537511]\n\tGetHandleVerifier [0x006A3402+510050]\n\tOrdinal0 [0x0059F29C+1110684]\n\tOrdinal0 [0x005A938B+1151883]\n\tOrdinal0 [0x005A94F3+1152243]\n\tOrdinal0 [0x005A83F5+1147893]\n\tBaseThreadInitThunk [0x75CA6BD9+25]\n\tRtlGetFullPathName_UEx [0x76FD8FD2+1218]\n\tRtlGetFullPathName_UEx [0x76FD8F9D+1165]\n"
     ]
    }
   ],
   "source": [
    "element.send_keys(\"Italia\")   #same as typing Laptop into the amazon search bar\n",
    "element.click()\n",
    "\n",
    "#element = wd.find_element(By.CSS_SELECTOR,\"aria-activedescendant\")\n",
    "#element.click()\n",
    "\n",
    "\n",
    "element = WebDriverWait(wd, 15).until(EC.element_to_be_clickable((By.XPATH, \"aria-activedescendant\")))\n",
    "\n",
    "# Haz click en el elemento\n",
    "element.click()\n",
    "\n",
    "\n",
    "option.click()"
   ]
  },
  {
   "cell_type": "code",
   "execution_count": null,
   "id": "f4df03e6",
   "metadata": {},
   "outputs": [],
   "source": [
    "elements = wd.find_element(By.NAME, \"MuiTypography-root MuiTypography-body1 MuiTypography-paragraph\")"
   ]
  },
  {
   "cell_type": "code",
   "execution_count": null,
   "id": "4ea937cc",
   "metadata": {},
   "outputs": [],
   "source": []
  }
 ],
 "metadata": {
  "kernelspec": {
   "display_name": "Python 3 (ipykernel)",
   "language": "python",
   "name": "python3"
  },
  "language_info": {
   "codemirror_mode": {
    "name": "ipython",
    "version": 3
   },
   "file_extension": ".py",
   "mimetype": "text/x-python",
   "name": "python",
   "nbconvert_exporter": "python",
   "pygments_lexer": "ipython3",
   "version": "3.9.7"
  }
 },
 "nbformat": 4,
 "nbformat_minor": 5
}
