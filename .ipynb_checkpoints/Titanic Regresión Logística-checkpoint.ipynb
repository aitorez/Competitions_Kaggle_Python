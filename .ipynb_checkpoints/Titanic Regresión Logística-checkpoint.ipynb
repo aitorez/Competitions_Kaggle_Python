{
 "cells": [
  {
   "cell_type": "markdown",
   "id": "fb537f79",
   "metadata": {},
   "source": [
    "# Problema Clasificacion Titanic"
   ]
  },
  {
   "cell_type": "markdown",
   "id": "84e16c9f",
   "metadata": {},
   "source": [
    "# Carga de librerías:"
   ]
  },
  {
   "cell_type": "code",
   "execution_count": 1,
   "id": "0a834e6f",
   "metadata": {},
   "outputs": [],
   "source": [
    "from sklearn.model_selection import train_test_split\n",
    "from sklearn.preprocessing import LabelEncoder, StandardScaler\n",
    "from sklearn.model_selection import GridSearchCV\n",
    "from sklearn.linear_model import LogisticRegression\n",
    "import sklearn.metrics as metrics\n",
    "from IPython.core.display import display, HTML\n",
    "import pandas as pd\n",
    "import seaborn as sns\n",
    "import matplotlib.pyplot as plt\n",
    "import numpy as np\n",
    "import warnings\n",
    "warnings.filterwarnings('ignore')"
   ]
  },
  {
   "cell_type": "markdown",
   "id": "c7f4c4fb",
   "metadata": {},
   "source": [
    "# Definición de funciones:"
   ]
  },
  {
   "cell_type": "code",
   "execution_count": 2,
   "id": "bc6c9de2",
   "metadata": {},
   "outputs": [],
   "source": [
    "def relaciones_vs_target(X, Y, return_type='axes'):\n",
    "    '''\n",
    "    Función que representa gráficos de dispersión de las variables\n",
    "    en X en función a la variable Y\n",
    "    '''\n",
    "    fig_tot = (len(X.columns))\n",
    "    fig_por_fila = 4.\n",
    "    tamanio_fig = 4.\n",
    "    num_filas = int( np.ceil(fig_tot/fig_por_fila) )    \n",
    "    plt.figure( figsize=( fig_por_fila*tamanio_fig+5, num_filas*tamanio_fig+5 ) )\n",
    "    c = 0 \n",
    "    for i, col in enumerate(X.columns):\n",
    "        plt.subplot(num_filas, fig_por_fila, i+1)\n",
    "        sns.scatterplot(x=X[col], y=Y)\n",
    "        plt.title( '%s vs %s' % (col, 'target') )\n",
    "        plt.ylabel('Target')\n",
    "        plt.xlabel(col)\n",
    "    plt.show()\n",
    "\n",
    "def represento_doble_hist(x_1, x_0, n_bins=11, title='', label_1='Clase 1', \n",
    "                          label_0='Clase 0', density=0):\n",
    "    '''\n",
    "    Función que recibe dos distribuciones de probabilidad y las representa\n",
    "    en el mismo gráfico\n",
    "    '''\n",
    "    bins = n_bins\n",
    "    plt.hist(x_1, bins, density = density, alpha=0.5, label=label_1, color='red')    \n",
    "    plt.hist(x_0, bins, density = density, alpha=0.5, label=label_0, color='green')\n",
    "    plt.title(title)\n",
    "    plt.legend(loc='best') \n",
    "\n",
    "def hist_pos_neg_feat(x, y, density=0, nbins=11, targets=(0,1)):\n",
    "    '''\n",
    "    Representa las variables en x divididas en dos distribuciones\n",
    "    según su valor de y sea 1 o 0\n",
    "    '''\n",
    "    fig_tot = len(x.columns)\n",
    "    fig_tot_fila = 4.; fig_tamanio = 4.\n",
    "    num_filas = int( np.ceil(fig_tot/fig_tot_fila) )\n",
    "    plt.figure( figsize=( fig_tot_fila*fig_tamanio+2, num_filas*fig_tamanio+2 ) )\n",
    "    target_neg, target_pos = targets\n",
    "    for i, feat in enumerate(x.columns):\n",
    "        plt.subplot(num_filas, fig_tot_fila, i+1);\n",
    "        plt.title('%s' % feat)\n",
    "        idx_pos = y == target_pos\n",
    "        idx_neg= y == target_neg\n",
    "        represento_doble_hist(x[feat][idx_pos].values, x[feat][idx_neg].values, nbins, \n",
    "                   density = density, title=('%s' % feat))"
   ]
  },
  {
   "cell_type": "markdown",
   "id": "a21c2f75",
   "metadata": {},
   "source": [
    "# Lectura de datos:"
   ]
  },
  {
   "cell_type": "code",
   "execution_count": 3,
   "id": "a4d33a90",
   "metadata": {},
   "outputs": [],
   "source": [
    "# Defino la lista de nombres de las variables\n",
    "XY_train = pd.read_csv('C:/Users/aitor/OneDrive/Escritorio/Anaconda/input/titanic/train.csv', sep=',')\n",
    "XY_test = pd.read_csv('C:/Users/aitor/OneDrive/Escritorio/Anaconda/input/titanic/test.csv', sep=',')"
   ]
  },
  {
   "cell_type": "code",
   "execution_count": 4,
   "id": "e9824437",
   "metadata": {
    "scrolled": false
   },
   "outputs": [
    {
     "data": {
      "text/html": [
       "<div>\n",
       "<style scoped>\n",
       "    .dataframe tbody tr th:only-of-type {\n",
       "        vertical-align: middle;\n",
       "    }\n",
       "\n",
       "    .dataframe tbody tr th {\n",
       "        vertical-align: top;\n",
       "    }\n",
       "\n",
       "    .dataframe thead th {\n",
       "        text-align: right;\n",
       "    }\n",
       "</style>\n",
       "<table border=\"1\" class=\"dataframe\">\n",
       "  <thead>\n",
       "    <tr style=\"text-align: right;\">\n",
       "      <th></th>\n",
       "      <th>PassengerId</th>\n",
       "      <th>Survived</th>\n",
       "      <th>Pclass</th>\n",
       "      <th>Name</th>\n",
       "      <th>Sex</th>\n",
       "      <th>Age</th>\n",
       "      <th>SibSp</th>\n",
       "      <th>Parch</th>\n",
       "      <th>Ticket</th>\n",
       "      <th>Fare</th>\n",
       "      <th>Cabin</th>\n",
       "      <th>Embarked</th>\n",
       "    </tr>\n",
       "  </thead>\n",
       "  <tbody>\n",
       "    <tr>\n",
       "      <th>0</th>\n",
       "      <td>1</td>\n",
       "      <td>0</td>\n",
       "      <td>3</td>\n",
       "      <td>Braund, Mr. Owen Harris</td>\n",
       "      <td>male</td>\n",
       "      <td>22.0</td>\n",
       "      <td>1</td>\n",
       "      <td>0</td>\n",
       "      <td>A/5 21171</td>\n",
       "      <td>7.2500</td>\n",
       "      <td>NaN</td>\n",
       "      <td>S</td>\n",
       "    </tr>\n",
       "    <tr>\n",
       "      <th>1</th>\n",
       "      <td>2</td>\n",
       "      <td>1</td>\n",
       "      <td>1</td>\n",
       "      <td>Cumings, Mrs. John Bradley (Florence Briggs Th...</td>\n",
       "      <td>female</td>\n",
       "      <td>38.0</td>\n",
       "      <td>1</td>\n",
       "      <td>0</td>\n",
       "      <td>PC 17599</td>\n",
       "      <td>71.2833</td>\n",
       "      <td>C85</td>\n",
       "      <td>C</td>\n",
       "    </tr>\n",
       "    <tr>\n",
       "      <th>2</th>\n",
       "      <td>3</td>\n",
       "      <td>1</td>\n",
       "      <td>3</td>\n",
       "      <td>Heikkinen, Miss. Laina</td>\n",
       "      <td>female</td>\n",
       "      <td>26.0</td>\n",
       "      <td>0</td>\n",
       "      <td>0</td>\n",
       "      <td>STON/O2. 3101282</td>\n",
       "      <td>7.9250</td>\n",
       "      <td>NaN</td>\n",
       "      <td>S</td>\n",
       "    </tr>\n",
       "    <tr>\n",
       "      <th>3</th>\n",
       "      <td>4</td>\n",
       "      <td>1</td>\n",
       "      <td>1</td>\n",
       "      <td>Futrelle, Mrs. Jacques Heath (Lily May Peel)</td>\n",
       "      <td>female</td>\n",
       "      <td>35.0</td>\n",
       "      <td>1</td>\n",
       "      <td>0</td>\n",
       "      <td>113803</td>\n",
       "      <td>53.1000</td>\n",
       "      <td>C123</td>\n",
       "      <td>S</td>\n",
       "    </tr>\n",
       "    <tr>\n",
       "      <th>4</th>\n",
       "      <td>5</td>\n",
       "      <td>0</td>\n",
       "      <td>3</td>\n",
       "      <td>Allen, Mr. William Henry</td>\n",
       "      <td>male</td>\n",
       "      <td>35.0</td>\n",
       "      <td>0</td>\n",
       "      <td>0</td>\n",
       "      <td>373450</td>\n",
       "      <td>8.0500</td>\n",
       "      <td>NaN</td>\n",
       "      <td>S</td>\n",
       "    </tr>\n",
       "  </tbody>\n",
       "</table>\n",
       "</div>"
      ],
      "text/plain": [
       "   PassengerId  Survived  Pclass  \\\n",
       "0            1         0       3   \n",
       "1            2         1       1   \n",
       "2            3         1       3   \n",
       "3            4         1       1   \n",
       "4            5         0       3   \n",
       "\n",
       "                                                Name     Sex   Age  SibSp  \\\n",
       "0                            Braund, Mr. Owen Harris    male  22.0      1   \n",
       "1  Cumings, Mrs. John Bradley (Florence Briggs Th...  female  38.0      1   \n",
       "2                             Heikkinen, Miss. Laina  female  26.0      0   \n",
       "3       Futrelle, Mrs. Jacques Heath (Lily May Peel)  female  35.0      1   \n",
       "4                           Allen, Mr. William Henry    male  35.0      0   \n",
       "\n",
       "   Parch            Ticket     Fare Cabin Embarked  \n",
       "0      0         A/5 21171   7.2500   NaN        S  \n",
       "1      0          PC 17599  71.2833   C85        C  \n",
       "2      0  STON/O2. 3101282   7.9250   NaN        S  \n",
       "3      0            113803  53.1000  C123        S  \n",
       "4      0            373450   8.0500   NaN        S  "
      ]
     },
     "execution_count": 4,
     "metadata": {},
     "output_type": "execute_result"
    }
   ],
   "source": [
    "XY_train.head()\n"
   ]
  },
  {
   "cell_type": "code",
   "execution_count": 5,
   "id": "2105cf4b",
   "metadata": {},
   "outputs": [
    {
     "data": {
      "text/html": [
       "<div>\n",
       "<style scoped>\n",
       "    .dataframe tbody tr th:only-of-type {\n",
       "        vertical-align: middle;\n",
       "    }\n",
       "\n",
       "    .dataframe tbody tr th {\n",
       "        vertical-align: top;\n",
       "    }\n",
       "\n",
       "    .dataframe thead th {\n",
       "        text-align: right;\n",
       "    }\n",
       "</style>\n",
       "<table border=\"1\" class=\"dataframe\">\n",
       "  <thead>\n",
       "    <tr style=\"text-align: right;\">\n",
       "      <th></th>\n",
       "      <th>PassengerId</th>\n",
       "      <th>Pclass</th>\n",
       "      <th>Name</th>\n",
       "      <th>Sex</th>\n",
       "      <th>Age</th>\n",
       "      <th>SibSp</th>\n",
       "      <th>Parch</th>\n",
       "      <th>Ticket</th>\n",
       "      <th>Fare</th>\n",
       "      <th>Cabin</th>\n",
       "      <th>Embarked</th>\n",
       "    </tr>\n",
       "  </thead>\n",
       "  <tbody>\n",
       "    <tr>\n",
       "      <th>0</th>\n",
       "      <td>892</td>\n",
       "      <td>3</td>\n",
       "      <td>Kelly, Mr. James</td>\n",
       "      <td>male</td>\n",
       "      <td>34.5</td>\n",
       "      <td>0</td>\n",
       "      <td>0</td>\n",
       "      <td>330911</td>\n",
       "      <td>7.8292</td>\n",
       "      <td>NaN</td>\n",
       "      <td>Q</td>\n",
       "    </tr>\n",
       "    <tr>\n",
       "      <th>1</th>\n",
       "      <td>893</td>\n",
       "      <td>3</td>\n",
       "      <td>Wilkes, Mrs. James (Ellen Needs)</td>\n",
       "      <td>female</td>\n",
       "      <td>47.0</td>\n",
       "      <td>1</td>\n",
       "      <td>0</td>\n",
       "      <td>363272</td>\n",
       "      <td>7.0000</td>\n",
       "      <td>NaN</td>\n",
       "      <td>S</td>\n",
       "    </tr>\n",
       "    <tr>\n",
       "      <th>2</th>\n",
       "      <td>894</td>\n",
       "      <td>2</td>\n",
       "      <td>Myles, Mr. Thomas Francis</td>\n",
       "      <td>male</td>\n",
       "      <td>62.0</td>\n",
       "      <td>0</td>\n",
       "      <td>0</td>\n",
       "      <td>240276</td>\n",
       "      <td>9.6875</td>\n",
       "      <td>NaN</td>\n",
       "      <td>Q</td>\n",
       "    </tr>\n",
       "    <tr>\n",
       "      <th>3</th>\n",
       "      <td>895</td>\n",
       "      <td>3</td>\n",
       "      <td>Wirz, Mr. Albert</td>\n",
       "      <td>male</td>\n",
       "      <td>27.0</td>\n",
       "      <td>0</td>\n",
       "      <td>0</td>\n",
       "      <td>315154</td>\n",
       "      <td>8.6625</td>\n",
       "      <td>NaN</td>\n",
       "      <td>S</td>\n",
       "    </tr>\n",
       "    <tr>\n",
       "      <th>4</th>\n",
       "      <td>896</td>\n",
       "      <td>3</td>\n",
       "      <td>Hirvonen, Mrs. Alexander (Helga E Lindqvist)</td>\n",
       "      <td>female</td>\n",
       "      <td>22.0</td>\n",
       "      <td>1</td>\n",
       "      <td>1</td>\n",
       "      <td>3101298</td>\n",
       "      <td>12.2875</td>\n",
       "      <td>NaN</td>\n",
       "      <td>S</td>\n",
       "    </tr>\n",
       "  </tbody>\n",
       "</table>\n",
       "</div>"
      ],
      "text/plain": [
       "   PassengerId  Pclass                                          Name     Sex  \\\n",
       "0          892       3                              Kelly, Mr. James    male   \n",
       "1          893       3              Wilkes, Mrs. James (Ellen Needs)  female   \n",
       "2          894       2                     Myles, Mr. Thomas Francis    male   \n",
       "3          895       3                              Wirz, Mr. Albert    male   \n",
       "4          896       3  Hirvonen, Mrs. Alexander (Helga E Lindqvist)  female   \n",
       "\n",
       "    Age  SibSp  Parch   Ticket     Fare Cabin Embarked  \n",
       "0  34.5      0      0   330911   7.8292   NaN        Q  \n",
       "1  47.0      1      0   363272   7.0000   NaN        S  \n",
       "2  62.0      0      0   240276   9.6875   NaN        Q  \n",
       "3  27.0      0      0   315154   8.6625   NaN        S  \n",
       "4  22.0      1      1  3101298  12.2875   NaN        S  "
      ]
     },
     "execution_count": 5,
     "metadata": {},
     "output_type": "execute_result"
    }
   ],
   "source": [
    "XY_test.head()"
   ]
  },
  {
   "cell_type": "code",
   "execution_count": 6,
   "id": "31351a22",
   "metadata": {},
   "outputs": [
    {
     "data": {
      "text/plain": [
       "PassengerId      int64\n",
       "Survived         int64\n",
       "Pclass           int64\n",
       "Name            object\n",
       "Sex             object\n",
       "Age            float64\n",
       "SibSp            int64\n",
       "Parch            int64\n",
       "Ticket          object\n",
       "Fare           float64\n",
       "Cabin           object\n",
       "Embarked        object\n",
       "dtype: object"
      ]
     },
     "execution_count": 6,
     "metadata": {},
     "output_type": "execute_result"
    }
   ],
   "source": [
    "XY_train.dtypes"
   ]
  },
  {
   "cell_type": "code",
   "execution_count": 7,
   "id": "1b712250",
   "metadata": {},
   "outputs": [
    {
     "data": {
      "text/plain": [
       "(418, 11)"
      ]
     },
     "execution_count": 7,
     "metadata": {},
     "output_type": "execute_result"
    }
   ],
   "source": [
    "XY_test.shape"
   ]
  },
  {
   "cell_type": "code",
   "execution_count": 8,
   "id": "fed3e295",
   "metadata": {},
   "outputs": [
    {
     "name": "stdout",
     "output_type": "stream",
     "text": [
      "- El número de filas en el dataset es: 891\n",
      "- El número de columnas en el dataset es: 12\n",
      "- Los nombres de las variables son: ['PassengerId', 'Survived', 'Pclass', 'Name', 'Sex', 'Age', 'SibSp', 'Parch', 'Ticket', 'Fare', 'Cabin', 'Embarked']\n"
     ]
    }
   ],
   "source": [
    "print(u'- El número de filas en el dataset es: {}'.format(XY_train.shape[0]))\n",
    "print(u'- El número de columnas en el dataset es: {}'.format(XY_train.shape[1]))\n",
    "print(u'- Los nombres de las variables son: {}'.format(list(XY_train.columns)))"
   ]
  },
  {
   "cell_type": "markdown",
   "id": "4f9c997e",
   "metadata": {},
   "source": [
    "# Preprocesamiento de datos"
   ]
  },
  {
   "cell_type": "markdown",
   "id": "4793fa8d",
   "metadata": {},
   "source": [
    "# Missings:"
   ]
  },
  {
   "cell_type": "code",
   "execution_count": 9,
   "id": "2d81f0ce",
   "metadata": {
    "scrolled": true
   },
   "outputs": [
    {
     "data": {
      "text/plain": [
       "PassengerId      0\n",
       "Survived         0\n",
       "Pclass           0\n",
       "Name             0\n",
       "Sex              0\n",
       "Age            177\n",
       "SibSp            0\n",
       "Parch            0\n",
       "Ticket           0\n",
       "Fare             0\n",
       "Cabin          687\n",
       "Embarked         2\n",
       "dtype: int64"
      ]
     },
     "execution_count": 9,
     "metadata": {},
     "output_type": "execute_result"
    }
   ],
   "source": [
    "XY_train.isnull().sum()"
   ]
  },
  {
   "cell_type": "code",
   "execution_count": 10,
   "id": "cc046bac",
   "metadata": {},
   "outputs": [
    {
     "data": {
      "text/plain": [
       "PassengerId      0\n",
       "Pclass           0\n",
       "Name             0\n",
       "Sex              0\n",
       "Age             86\n",
       "SibSp            0\n",
       "Parch            0\n",
       "Ticket           0\n",
       "Fare             1\n",
       "Cabin          327\n",
       "Embarked         0\n",
       "dtype: int64"
      ]
     },
     "execution_count": 10,
     "metadata": {},
     "output_type": "execute_result"
    }
   ],
   "source": [
    "XY_test.isnull().sum()"
   ]
  },
  {
   "cell_type": "code",
   "execution_count": 11,
   "id": "99e9514a",
   "metadata": {},
   "outputs": [],
   "source": [
    "#Hay que corregir o no los valores faltantes para poder hacer esta operación\n",
    "mean = XY_train['Age'].mean()\n",
    "XY_train['Age'].fillna(mean, inplace=True)\n",
    "XY_train.Age = XY_train.Age.astype(int)\n",
    "XY_train.Fare = XY_train.Fare.astype(int)\n",
    "\n",
    "mean = XY_test['Fare'].mean()\n",
    "mean2 = XY_test['Age'].mean()\n",
    "XY_test['Fare'].fillna(mean, inplace=True)\n",
    "XY_test['Age'].fillna(mean2, inplace=True)\n",
    "XY_test.Age = XY_test.Age.astype(int)\n",
    "XY_test.Fare = XY_test.Fare.astype(int)"
   ]
  },
  {
   "cell_type": "code",
   "execution_count": 12,
   "id": "2ed814fd",
   "metadata": {},
   "outputs": [
    {
     "data": {
      "text/plain": [
       "(418, 11)"
      ]
     },
     "execution_count": 12,
     "metadata": {},
     "output_type": "execute_result"
    }
   ],
   "source": [
    "XY_test.shape"
   ]
  },
  {
   "cell_type": "code",
   "execution_count": 13,
   "id": "371bc7d6",
   "metadata": {},
   "outputs": [],
   "source": [
    "le = LabelEncoder()"
   ]
  },
  {
   "cell_type": "code",
   "execution_count": 14,
   "id": "6f44ea77",
   "metadata": {},
   "outputs": [],
   "source": [
    "#Es necesario convertir las variables categóricas a numéricas de cara a introducirlas en modelos:\n",
    "XY_train.Pclass = le.fit_transform(XY_train.Pclass)\n",
    "XY_train.Sex = le.fit_transform(XY_train.Sex)\n",
    "XY_train.Embarked = le.fit_transform(XY_train.Embarked)\n",
    "\n",
    "\n",
    "XY_test.Pclass = le.fit_transform(XY_test.Pclass)\n",
    "XY_test.Sex = le.fit_transform(XY_test.Sex)\n",
    "XY_test.Embarked = le.fit_transform(XY_test.Embarked)\n",
    "\n"
   ]
  },
  {
   "cell_type": "code",
   "execution_count": 15,
   "id": "198b51ca",
   "metadata": {},
   "outputs": [],
   "source": [
    "del XY_train['Name']\n",
    "del XY_train['Ticket']\n",
    "del XY_train['Cabin']\n",
    "del XY_train['PassengerId']\n",
    "\n",
    "del XY_test['Name']\n",
    "del XY_test['Ticket']\n",
    "del XY_test['Cabin']\n",
    "\n"
   ]
  },
  {
   "cell_type": "markdown",
   "id": "55c445d0",
   "metadata": {},
   "source": [
    "# Comprobación tipos no numéricos:"
   ]
  },
  {
   "cell_type": "code",
   "execution_count": 16,
   "id": "0e528231",
   "metadata": {},
   "outputs": [
    {
     "data": {
      "text/plain": [
       "Index([], dtype='object')"
      ]
     },
     "execution_count": 16,
     "metadata": {},
     "output_type": "execute_result"
    }
   ],
   "source": [
    "XY_train.select_dtypes(exclude=['number']).columns"
   ]
  },
  {
   "cell_type": "markdown",
   "id": "7e4499c1",
   "metadata": {},
   "source": [
    "# Division en features X + target Y"
   ]
  },
  {
   "cell_type": "code",
   "execution_count": 17,
   "id": "f7f55c02",
   "metadata": {},
   "outputs": [],
   "source": [
    "X = XY_train.drop('Survived', axis=1)\n",
    "Y = XY_train['Survived']"
   ]
  },
  {
   "cell_type": "code",
   "execution_count": 18,
   "id": "170b258c",
   "metadata": {},
   "outputs": [
    {
     "data": {
      "text/html": [
       "<div>\n",
       "<style scoped>\n",
       "    .dataframe tbody tr th:only-of-type {\n",
       "        vertical-align: middle;\n",
       "    }\n",
       "\n",
       "    .dataframe tbody tr th {\n",
       "        vertical-align: top;\n",
       "    }\n",
       "\n",
       "    .dataframe thead th {\n",
       "        text-align: right;\n",
       "    }\n",
       "</style>\n",
       "<table border=\"1\" class=\"dataframe\">\n",
       "  <thead>\n",
       "    <tr style=\"text-align: right;\">\n",
       "      <th></th>\n",
       "      <th>Survived</th>\n",
       "      <th>Pclass</th>\n",
       "      <th>Sex</th>\n",
       "      <th>Age</th>\n",
       "      <th>SibSp</th>\n",
       "      <th>Parch</th>\n",
       "      <th>Fare</th>\n",
       "      <th>Embarked</th>\n",
       "    </tr>\n",
       "  </thead>\n",
       "  <tbody>\n",
       "    <tr>\n",
       "      <th>count</th>\n",
       "      <td>891.000000</td>\n",
       "      <td>891.000000</td>\n",
       "      <td>891.000000</td>\n",
       "      <td>891.000000</td>\n",
       "      <td>891.000000</td>\n",
       "      <td>891.000000</td>\n",
       "      <td>891.000000</td>\n",
       "      <td>891.000000</td>\n",
       "    </tr>\n",
       "    <tr>\n",
       "      <th>mean</th>\n",
       "      <td>0.383838</td>\n",
       "      <td>1.308642</td>\n",
       "      <td>0.647587</td>\n",
       "      <td>29.544332</td>\n",
       "      <td>0.523008</td>\n",
       "      <td>0.381594</td>\n",
       "      <td>31.785634</td>\n",
       "      <td>1.538721</td>\n",
       "    </tr>\n",
       "    <tr>\n",
       "      <th>std</th>\n",
       "      <td>0.486592</td>\n",
       "      <td>0.836071</td>\n",
       "      <td>0.477990</td>\n",
       "      <td>13.013778</td>\n",
       "      <td>1.102743</td>\n",
       "      <td>0.806057</td>\n",
       "      <td>49.703730</td>\n",
       "      <td>0.794231</td>\n",
       "    </tr>\n",
       "    <tr>\n",
       "      <th>min</th>\n",
       "      <td>0.000000</td>\n",
       "      <td>0.000000</td>\n",
       "      <td>0.000000</td>\n",
       "      <td>0.000000</td>\n",
       "      <td>0.000000</td>\n",
       "      <td>0.000000</td>\n",
       "      <td>0.000000</td>\n",
       "      <td>0.000000</td>\n",
       "    </tr>\n",
       "    <tr>\n",
       "      <th>25%</th>\n",
       "      <td>0.000000</td>\n",
       "      <td>1.000000</td>\n",
       "      <td>0.000000</td>\n",
       "      <td>22.000000</td>\n",
       "      <td>0.000000</td>\n",
       "      <td>0.000000</td>\n",
       "      <td>7.000000</td>\n",
       "      <td>1.000000</td>\n",
       "    </tr>\n",
       "    <tr>\n",
       "      <th>50%</th>\n",
       "      <td>0.000000</td>\n",
       "      <td>2.000000</td>\n",
       "      <td>1.000000</td>\n",
       "      <td>29.000000</td>\n",
       "      <td>0.000000</td>\n",
       "      <td>0.000000</td>\n",
       "      <td>14.000000</td>\n",
       "      <td>2.000000</td>\n",
       "    </tr>\n",
       "    <tr>\n",
       "      <th>75%</th>\n",
       "      <td>1.000000</td>\n",
       "      <td>2.000000</td>\n",
       "      <td>1.000000</td>\n",
       "      <td>35.000000</td>\n",
       "      <td>1.000000</td>\n",
       "      <td>0.000000</td>\n",
       "      <td>31.000000</td>\n",
       "      <td>2.000000</td>\n",
       "    </tr>\n",
       "    <tr>\n",
       "      <th>max</th>\n",
       "      <td>1.000000</td>\n",
       "      <td>2.000000</td>\n",
       "      <td>1.000000</td>\n",
       "      <td>80.000000</td>\n",
       "      <td>8.000000</td>\n",
       "      <td>6.000000</td>\n",
       "      <td>512.000000</td>\n",
       "      <td>3.000000</td>\n",
       "    </tr>\n",
       "  </tbody>\n",
       "</table>\n",
       "</div>"
      ],
      "text/plain": [
       "         Survived      Pclass         Sex         Age       SibSp       Parch  \\\n",
       "count  891.000000  891.000000  891.000000  891.000000  891.000000  891.000000   \n",
       "mean     0.383838    1.308642    0.647587   29.544332    0.523008    0.381594   \n",
       "std      0.486592    0.836071    0.477990   13.013778    1.102743    0.806057   \n",
       "min      0.000000    0.000000    0.000000    0.000000    0.000000    0.000000   \n",
       "25%      0.000000    1.000000    0.000000   22.000000    0.000000    0.000000   \n",
       "50%      0.000000    2.000000    1.000000   29.000000    0.000000    0.000000   \n",
       "75%      1.000000    2.000000    1.000000   35.000000    1.000000    0.000000   \n",
       "max      1.000000    2.000000    1.000000   80.000000    8.000000    6.000000   \n",
       "\n",
       "             Fare    Embarked  \n",
       "count  891.000000  891.000000  \n",
       "mean    31.785634    1.538721  \n",
       "std     49.703730    0.794231  \n",
       "min      0.000000    0.000000  \n",
       "25%      7.000000    1.000000  \n",
       "50%     14.000000    2.000000  \n",
       "75%     31.000000    2.000000  \n",
       "max    512.000000    3.000000  "
      ]
     },
     "execution_count": 18,
     "metadata": {},
     "output_type": "execute_result"
    }
   ],
   "source": [
    "XY_train.describe()"
   ]
  },
  {
   "cell_type": "markdown",
   "id": "10019016",
   "metadata": {},
   "source": [
    "# Boxplots:"
   ]
  },
  {
   "cell_type": "code",
   "execution_count": 19,
   "id": "8f9f154f",
   "metadata": {},
   "outputs": [],
   "source": [
    "X_normalizado = (X-X.mean())/X.std()"
   ]
  },
  {
   "cell_type": "code",
   "execution_count": 20,
   "id": "e487352d",
   "metadata": {},
   "outputs": [
    {
     "data": {
      "text/html": [
       "<div>\n",
       "<style scoped>\n",
       "    .dataframe tbody tr th:only-of-type {\n",
       "        vertical-align: middle;\n",
       "    }\n",
       "\n",
       "    .dataframe tbody tr th {\n",
       "        vertical-align: top;\n",
       "    }\n",
       "\n",
       "    .dataframe thead th {\n",
       "        text-align: right;\n",
       "    }\n",
       "</style>\n",
       "<table border=\"1\" class=\"dataframe\">\n",
       "  <thead>\n",
       "    <tr style=\"text-align: right;\">\n",
       "      <th></th>\n",
       "      <th>Pclass</th>\n",
       "      <th>Sex</th>\n",
       "      <th>Age</th>\n",
       "      <th>SibSp</th>\n",
       "      <th>Parch</th>\n",
       "      <th>Fare</th>\n",
       "      <th>Embarked</th>\n",
       "    </tr>\n",
       "  </thead>\n",
       "  <tbody>\n",
       "    <tr>\n",
       "      <th>0</th>\n",
       "      <td>0.826913</td>\n",
       "      <td>0.737281</td>\n",
       "      <td>-0.579719</td>\n",
       "      <td>0.43255</td>\n",
       "      <td>-0.473408</td>\n",
       "      <td>-0.498667</td>\n",
       "      <td>0.580788</td>\n",
       "    </tr>\n",
       "    <tr>\n",
       "      <th>1</th>\n",
       "      <td>-1.565228</td>\n",
       "      <td>-1.354813</td>\n",
       "      <td>0.649747</td>\n",
       "      <td>0.43255</td>\n",
       "      <td>-0.473408</td>\n",
       "      <td>0.788962</td>\n",
       "      <td>-1.937372</td>\n",
       "    </tr>\n",
       "  </tbody>\n",
       "</table>\n",
       "</div>"
      ],
      "text/plain": [
       "     Pclass       Sex       Age    SibSp     Parch      Fare  Embarked\n",
       "0  0.826913  0.737281 -0.579719  0.43255 -0.473408 -0.498667  0.580788\n",
       "1 -1.565228 -1.354813  0.649747  0.43255 -0.473408  0.788962 -1.937372"
      ]
     },
     "execution_count": 20,
     "metadata": {},
     "output_type": "execute_result"
    }
   ],
   "source": [
    "X_normalizado[:2]"
   ]
  },
  {
   "cell_type": "code",
   "execution_count": 21,
   "id": "aab682df",
   "metadata": {},
   "outputs": [
    {
     "data": {
      "image/png": "[encoded data removed]",
      "text/plain": [
       "<Figure size 1080x504 with 1 Axes>"
      ]
     },
     "metadata": {
      "needs_background": "light"
     },
     "output_type": "display_data"
    }
   ],
   "source": [
    "plt.figure(figsize=(15,7))\n",
    "ax = sns.boxplot(data=X_normalizado)\n",
    "ax.set_xticklabels(ax.get_xticklabels(),rotation=90)\n",
    "plt.title(u'Representación de cajas de las variables independientes X')\n",
    "plt.ylabel('Valor de la variable normalizada')\n",
    "_ = plt.xlabel('Nombre de la variable')"
   ]
  },
  {
   "cell_type": "markdown",
   "id": "1e44f025",
   "metadata": {},
   "source": [
    "# Histogramas:"
   ]
  },
  {
   "cell_type": "code",
   "execution_count": 22,
   "id": "a7ecb6cd",
   "metadata": {},
   "outputs": [
    {
     "data": {
      "image/png": "[encoded data removed]",
      "text/plain": [
       "<Figure size 1296x1440 with 7 Axes>"
      ]
     },
     "metadata": {
      "needs_background": "light"
     },
     "output_type": "display_data"
    }
   ],
   "source": [
    "plt.figure(figsize=(18,20))\n",
    "n = 0\n",
    "for i, column in enumerate(X.columns):\n",
    "    n+=1\n",
    "    plt.subplot(4, 4, n)\n",
    "    sns.distplot(X[column], bins=30)\n",
    "    plt.title('Distribución var {}'.format(column))\n",
    "plt.show()"
   ]
  },
  {
   "cell_type": "markdown",
   "id": "650dfee9",
   "metadata": {},
   "source": [
    "# Relación variable vs target:"
   ]
  },
  {
   "cell_type": "code",
   "execution_count": 23,
   "id": "3747021c",
   "metadata": {},
   "outputs": [
    {
     "data": {
      "image/png": "[encoded data removed]",
      "text/plain": [
       "<Figure size 1512x936 with 7 Axes>"
      ]
     },
     "metadata": {
      "needs_background": "light"
     },
     "output_type": "display_data"
    }
   ],
   "source": [
    "relaciones_vs_target(X, Y)"
   ]
  },
  {
   "cell_type": "code",
   "execution_count": 24,
   "id": "1790e665",
   "metadata": {},
   "outputs": [
    {
     "data": {
      "image/png": "[encoded data removed]",
      "text/plain": [
       "<Figure size 1296x720 with 7 Axes>"
      ]
     },
     "metadata": {
      "needs_background": "light"
     },
     "output_type": "display_data"
    }
   ],
   "source": [
    "hist_pos_neg_feat(X,Y)"
   ]
  },
  {
   "cell_type": "markdown",
   "id": "97f2c29a",
   "metadata": {},
   "source": [
    "Estos gráficos son interesantes para analizar el poder predictivo de las variables. Cuanto más se separen las dos distribuciones, mejor para predecir ya que es más fácil discriminarlas."
   ]
  },
  {
   "cell_type": "markdown",
   "id": "eea5dab1",
   "metadata": {},
   "source": [
    "# Matriz de correlaciones:"
   ]
  },
  {
   "cell_type": "code",
   "execution_count": 25,
   "id": "2622939f",
   "metadata": {},
   "outputs": [
    {
     "data": {
      "image/png": "[encoded data removed]",
      "text/plain": [
       "<Figure size 648x648 with 2 Axes>"
      ]
     },
     "metadata": {
      "needs_background": "light"
     },
     "output_type": "display_data"
    }
   ],
   "source": [
    "matriz_correlaciones = XY_train.corr(method='pearson')\n",
    "n_ticks = len(XY_train.columns)\n",
    "plt.figure( figsize=(9, 9) )\n",
    "plt.xticks(range(n_ticks), XY_train.columns, rotation='vertical')\n",
    "plt.yticks(range(n_ticks), XY_train.columns)\n",
    "plt.colorbar(plt.imshow(matriz_correlaciones, interpolation='nearest', \n",
    "                            vmin=-1., vmax=1., \n",
    "                            cmap=plt.get_cmap('Blues')))\n",
    "_ = plt.title('Matriz de correlaciones de Pearson')"
   ]
  },
  {
   "cell_type": "markdown",
   "id": "11f7d683",
   "metadata": {},
   "source": [
    "# Variables con mayor correlación con la target:"
   ]
  },
  {
   "cell_type": "code",
   "execution_count": 26,
   "id": "5f674064",
   "metadata": {},
   "outputs": [
    {
     "data": {
      "text/html": [
       "<div>\n",
       "<style scoped>\n",
       "    .dataframe tbody tr th:only-of-type {\n",
       "        vertical-align: middle;\n",
       "    }\n",
       "\n",
       "    .dataframe tbody tr th {\n",
       "        vertical-align: top;\n",
       "    }\n",
       "\n",
       "    .dataframe thead th {\n",
       "        text-align: right;\n",
       "    }\n",
       "</style>\n",
       "<table border=\"1\" class=\"dataframe\">\n",
       "  <thead>\n",
       "    <tr style=\"text-align: right;\">\n",
       "      <th></th>\n",
       "      <th>Correlación con la target</th>\n",
       "    </tr>\n",
       "  </thead>\n",
       "  <tbody>\n",
       "    <tr>\n",
       "      <th>Embarked</th>\n",
       "      <td>-0.220645</td>\n",
       "    </tr>\n",
       "    <tr>\n",
       "      <th>Pclass</th>\n",
       "      <td>-0.163517</td>\n",
       "    </tr>\n",
       "    <tr>\n",
       "      <th>Sex</th>\n",
       "      <td>0.157112</td>\n",
       "    </tr>\n",
       "    <tr>\n",
       "      <th>Age</th>\n",
       "      <td>0.104057</td>\n",
       "    </tr>\n",
       "    <tr>\n",
       "      <th>Parch</th>\n",
       "      <td>0.066654</td>\n",
       "    </tr>\n",
       "    <tr>\n",
       "      <th>Fare</th>\n",
       "      <td>0.038322</td>\n",
       "    </tr>\n",
       "    <tr>\n",
       "      <th>SibSp</th>\n",
       "      <td>-0.018402</td>\n",
       "    </tr>\n",
       "  </tbody>\n",
       "</table>\n",
       "</div>"
      ],
      "text/plain": [
       "          Correlación con la target\n",
       "Embarked                  -0.220645\n",
       "Pclass                    -0.163517\n",
       "Sex                        0.157112\n",
       "Age                        0.104057\n",
       "Parch                      0.066654\n",
       "Fare                       0.038322\n",
       "SibSp                     -0.018402"
      ]
     },
     "execution_count": 26,
     "metadata": {},
     "output_type": "execute_result"
    }
   ],
   "source": [
    "correlaciones_target = matriz_correlaciones.values[ -1, : -1]\n",
    "indices_inversos =  abs(correlaciones_target[ : ]).argsort()[ : : -1]\n",
    "diccionario = {}\n",
    "for nombre, correlacion in zip( X.columns[indices_inversos], list(correlaciones_target[indices_inversos] ) ):\n",
    "    diccionario[nombre] = correlacion\n",
    "pd.DataFrame.from_dict(diccionario, orient='index', columns=['Correlación con la target'])"
   ]
  },
  {
   "cell_type": "markdown",
   "id": "7143c5d8",
   "metadata": {},
   "source": [
    "# Estandarización de los datos previa:"
   ]
  },
  {
   "cell_type": "code",
   "execution_count": null,
   "id": "ad55a7eb",
   "metadata": {},
   "outputs": [],
   "source": []
  },
  {
   "cell_type": "markdown",
   "id": "aa82c80d",
   "metadata": {},
   "source": [
    "Como se comenta en la unidad, hay modelos que parten de la hipótesis que los datos son centrados y, por tanto, se necesita estandarizar. Suele ser una buena práctica porque no suele perjudicar.\n",
    "Además, la inversa se puede realizar de forma sencilla."
   ]
  },
  {
   "cell_type": "code",
   "execution_count": 27,
   "id": "c751fd5d",
   "metadata": {},
   "outputs": [],
   "source": [
    "obj_escalar = StandardScaler()\n",
    "X_estandarizado = obj_escalar.fit_transform(X)"
   ]
  },
  {
   "cell_type": "markdown",
   "id": "ce0be089",
   "metadata": {},
   "source": [
    "# División en train y test:"
   ]
  },
  {
   "cell_type": "markdown",
   "id": "68e80b7c",
   "metadata": {},
   "source": [
    "# Aplicamos un modelo de regresión logística"
   ]
  },
  {
   "cell_type": "code",
   "execution_count": 28,
   "id": "ecceeb6e",
   "metadata": {},
   "outputs": [],
   "source": [
    "modelo = LogisticRegression()\n",
    "parametros = {\"C\": [0., 0.01, 0.02, 0.03, 0.04, 0.05, 0.06, 0.07, 0.08,0.09], \n",
    "              \"class_weight\":['balanced', None]}"
   ]
  },
  {
   "cell_type": "code",
   "execution_count": 29,
   "id": "65ca1e12",
   "metadata": {},
   "outputs": [
    {
     "data": {
      "text/plain": [
       "GridSearchCV(cv=5, estimator=LogisticRegression(),\n",
       "             param_grid={'C': [0.0, 0.01, 0.02, 0.03, 0.04, 0.05, 0.06, 0.07,\n",
       "                               0.08, 0.09],\n",
       "                         'class_weight': ['balanced', None]},\n",
       "             scoring='roc_auc')"
      ]
     },
     "execution_count": 29,
     "metadata": {},
     "output_type": "execute_result"
    }
   ],
   "source": [
    "modelo_gs = GridSearchCV(modelo, param_grid=parametros,\n",
    "                         cv = 5, scoring='roc_auc')\n",
    "modelo_gs.fit(X, Y)"
   ]
  },
  {
   "cell_type": "code",
   "execution_count": 30,
   "id": "876eff94",
   "metadata": {},
   "outputs": [
    {
     "name": "stdout",
     "output_type": "stream",
     "text": [
      "{'C': 0.09, 'class_weight': None} \n",
      "ROC AUC: 0.85\n"
     ]
    }
   ],
   "source": [
    "print(modelo_gs.best_params_, \"\\nROC AUC: {}\".format(round(modelo_gs.best_score_,2)))"
   ]
  },
  {
   "cell_type": "code",
   "execution_count": 31,
   "id": "a2d3f970",
   "metadata": {},
   "outputs": [],
   "source": [
    "df_search = pd.DataFrame.from_dict(modelo_gs.cv_results_)"
   ]
  },
  {
   "cell_type": "code",
   "execution_count": 32,
   "id": "290e1dee",
   "metadata": {},
   "outputs": [
    {
     "data": {
      "image/png": "[encoded data removed]",
      "text/plain": [
       "<Figure size 432x288 with 1 Axes>"
      ]
     },
     "metadata": {
      "needs_background": "light"
     },
     "output_type": "display_data"
    }
   ],
   "source": [
    "plt.xlabel('C')\n",
    "plt.ylabel('roc_auc')\n",
    "_ = plt.plot( df_search['param_C'], df_search['mean_test_score'], '.')"
   ]
  },
  {
   "cell_type": "markdown",
   "id": "30047e6c",
   "metadata": {},
   "source": [
    "# Analizando el modelo con el mejor alpha"
   ]
  },
  {
   "cell_type": "markdown",
   "id": "e99a44cb",
   "metadata": {},
   "source": [
    "En este paso nos quedamos con los mejores parámetros obtenidos en el paso anterior:"
   ]
  },
  {
   "cell_type": "code",
   "execution_count": 33,
   "id": "6c8a4f6e",
   "metadata": {},
   "outputs": [],
   "source": [
    "reg_log =  LogisticRegression(C=modelo_gs.best_params_['C'],\n",
    "                              class_weight=modelo_gs.best_params_['class_weight'])"
   ]
  },
  {
   "cell_type": "markdown",
   "id": "2e3c18ff",
   "metadata": {},
   "source": [
    "Ajusto a todos los datos de entrenamiento."
   ]
  },
  {
   "cell_type": "code",
   "execution_count": 34,
   "id": "6c7aebde",
   "metadata": {},
   "outputs": [
    {
     "data": {
      "text/plain": [
       "LogisticRegression(C=0.09)"
      ]
     },
     "execution_count": 34,
     "metadata": {},
     "output_type": "execute_result"
    }
   ],
   "source": [
    "reg_log.fit(X, Y)"
   ]
  },
  {
   "cell_type": "markdown",
   "id": "09684ab6",
   "metadata": {},
   "source": [
    "# Predicción"
   ]
  },
  {
   "cell_type": "code",
   "execution_count": 35,
   "id": "1f90fb4c",
   "metadata": {},
   "outputs": [],
   "source": [
    "y_pred = reg_log.predict(X)"
   ]
  },
  {
   "cell_type": "code",
   "execution_count": 39,
   "id": "22f0dd02",
   "metadata": {},
   "outputs": [],
   "source": [
    "#Realizo la prediccion para los datos test\n",
    "ids = XY_test['PassengerId']\n",
    "predictions = reg_log.predict(XY_test.drop('PassengerId', axis=1))\n",
    "\n",
    "\n",
    "output = pd.DataFrame({\n",
    "    'PassengerId': ids,\n",
    "    'Survived' : predictions\n",
    "})\n",
    "\n",
    "output.to_csv('submission.csv', index=False)"
   ]
  },
  {
   "cell_type": "code",
   "execution_count": 40,
   "id": "4ef2d2bf",
   "metadata": {},
   "outputs": [
    {
     "data": {
      "text/html": [
       "<div>\n",
       "<style scoped>\n",
       "    .dataframe tbody tr th:only-of-type {\n",
       "        vertical-align: middle;\n",
       "    }\n",
       "\n",
       "    .dataframe tbody tr th {\n",
       "        vertical-align: top;\n",
       "    }\n",
       "\n",
       "    .dataframe thead th {\n",
       "        text-align: right;\n",
       "    }\n",
       "</style>\n",
       "<table border=\"1\" class=\"dataframe\">\n",
       "  <thead>\n",
       "    <tr style=\"text-align: right;\">\n",
       "      <th></th>\n",
       "      <th>PassengerId</th>\n",
       "      <th>Survived</th>\n",
       "    </tr>\n",
       "  </thead>\n",
       "  <tbody>\n",
       "    <tr>\n",
       "      <th>0</th>\n",
       "      <td>892</td>\n",
       "      <td>0</td>\n",
       "    </tr>\n",
       "    <tr>\n",
       "      <th>1</th>\n",
       "      <td>893</td>\n",
       "      <td>0</td>\n",
       "    </tr>\n",
       "    <tr>\n",
       "      <th>2</th>\n",
       "      <td>894</td>\n",
       "      <td>0</td>\n",
       "    </tr>\n",
       "    <tr>\n",
       "      <th>3</th>\n",
       "      <td>895</td>\n",
       "      <td>0</td>\n",
       "    </tr>\n",
       "    <tr>\n",
       "      <th>4</th>\n",
       "      <td>896</td>\n",
       "      <td>1</td>\n",
       "    </tr>\n",
       "    <tr>\n",
       "      <th>...</th>\n",
       "      <td>...</td>\n",
       "      <td>...</td>\n",
       "    </tr>\n",
       "    <tr>\n",
       "      <th>413</th>\n",
       "      <td>1305</td>\n",
       "      <td>0</td>\n",
       "    </tr>\n",
       "    <tr>\n",
       "      <th>414</th>\n",
       "      <td>1306</td>\n",
       "      <td>1</td>\n",
       "    </tr>\n",
       "    <tr>\n",
       "      <th>415</th>\n",
       "      <td>1307</td>\n",
       "      <td>0</td>\n",
       "    </tr>\n",
       "    <tr>\n",
       "      <th>416</th>\n",
       "      <td>1308</td>\n",
       "      <td>0</td>\n",
       "    </tr>\n",
       "    <tr>\n",
       "      <th>417</th>\n",
       "      <td>1309</td>\n",
       "      <td>0</td>\n",
       "    </tr>\n",
       "  </tbody>\n",
       "</table>\n",
       "<p>418 rows × 2 columns</p>\n",
       "</div>"
      ],
      "text/plain": [
       "     PassengerId  Survived\n",
       "0            892         0\n",
       "1            893         0\n",
       "2            894         0\n",
       "3            895         0\n",
       "4            896         1\n",
       "..           ...       ...\n",
       "413         1305         0\n",
       "414         1306         1\n",
       "415         1307         0\n",
       "416         1308         0\n",
       "417         1309         0\n",
       "\n",
       "[418 rows x 2 columns]"
      ]
     },
     "metadata": {},
     "output_type": "display_data"
    }
   ],
   "source": [
    "display(output)"
   ]
  }
 ],
 "metadata": {
  "kernelspec": {
   "display_name": "Python 3 (ipykernel)",
   "language": "python",
   "name": "python3"
  },
  "language_info": {
   "codemirror_mode": {
    "name": "ipython",
    "version": 3
   },
   "file_extension": ".py",
   "mimetype": "text/x-python",
   "name": "python",
   "nbconvert_exporter": "python",
   "pygments_lexer": "ipython3",
   "version": "3.9.7"
  }
 },
 "nbformat": 4,
 "nbformat_minor": 5
}
